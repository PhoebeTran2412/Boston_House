{
  "nbformat": 4,
  "nbformat_minor": 0,
  "metadata": {
    "colab": {
      "name": "TraditionalML_BostonHouse",
      "provenance": [],
      "collapsed_sections": []
    },
    "kernelspec": {
      "name": "python3",
      "display_name": "Python 3"
    },
    "language_info": {
      "name": "python"
    }
  },
  "cells": [
    {
      "cell_type": "markdown",
      "metadata": {
        "id": "Sh5OPHm9f9sA"
      },
      "source": [
        "# Weekly Project: Predicting Boston Housing prices"
      ]
    },
    {
      "cell_type": "markdown",
      "metadata": {
        "id": "poI7w8SGghl8"
      },
      "source": [
        "In this project, we will create, evaluate the performance and predictive power of your model on data collected from homes in suburbs of Boston, Massachusetts\n",
        "\n",
        "The dataset for this project originates from the UCI Machine Learning Repository. The Boston housing data was collected in 1978 and each of the 506 entries represent aggregated data about 14 features for homes from various suburbs in Boston, Massachusetts. **Data preprocessing has been applied to your dataset**. For the purposes of this project, the following preprocessing steps have been made to the dataset:\n",
        "\n",
        "- 16 data points have an 'MEDV' value of 50.0. These data points likely contain missing or censored values and have been removed.\n",
        "- 1 data point has an 'RM' value of 8.78. This data point can be considered an outlier and has been removed.\n",
        "- The features 'RM', 'LSTAT', 'PTRATIO', and 'MEDV' are essential. The remaining non-relevant features have been excluded.\n",
        "- The feature 'MEDV' has been multiplicatively scaled to account for 35 years of market inflation.\n",
        "\n",
        "Our task is to apply a machine learning model of your choice to predict the price of houses in a Boston neighborhood (which is column 'MEDV')\n"
      ]
    },
    {
      "cell_type": "markdown",
      "metadata": {
        "id": "nJ1Wd-C_sKli"
      },
      "source": [
        "The dataset can be accessed here: https://raw.githubusercontent.com/anhquan0412/boston_housing/master/housing.csv\n"
      ]
    },
    {
      "cell_type": "code",
      "metadata": {
        "id": "H9qWpFlXn7eB"
      },
      "source": [
        "# Import library\n",
        "import numpy as np\n",
        "import pandas as pd\n",
        "import seaborn as sns\n",
        "import matplotlib.pyplot as plt"
      ],
      "execution_count": null,
      "outputs": []
    },
    {
      "cell_type": "code",
      "metadata": {
        "id": "A-WX0tV_pMAv"
      },
      "source": [
        "# Import dataset from Github link\n",
        "dataset_url = 'https://raw.githubusercontent.com/anhquan0412/boston_housing/master/housing.csv'\n",
        "housing = pd.read_csv(dataset_url)"
      ],
      "execution_count": null,
      "outputs": []
    },
    {
      "cell_type": "code",
      "metadata": {
        "id": "ll6ojBi3jROX"
      },
      "source": [
        "# Import Linear Regression\n",
        "from sklearn.linear_model import LinearRegression\n",
        "\n",
        "# Import Polynomial Features\n",
        "from sklearn.preprocessing import PolynomialFeatures\n",
        "\n",
        "# Import Pipeline\n",
        "from sklearn.pipeline import Pipeline\n",
        "\n",
        "# Import MinMaxScaler\n",
        "from sklearn.preprocessing import MinMaxScaler\n",
        "\n",
        "# Import Standard Scaler\n",
        "from sklearn.preprocessing import StandardScaler\n",
        "\n",
        "# Import train_test_split\n",
        "from sklearn.model_selection import train_test_split\n",
        "\n",
        "# Import mean_absolute_error\n",
        "from sklearn.metrics import mean_absolute_error\n",
        "\n",
        "# Import cross_val_score\n",
        "from sklearn.model_selection import cross_val_score\n",
        "\n",
        "# Format float data format\n",
        "pd.options.display.float_format = '{:.2f}'.format"
      ],
      "execution_count": null,
      "outputs": []
    },
    {
      "cell_type": "code",
      "metadata": {
        "colab": {
          "base_uri": "https://localhost:8080/",
          "height": 205
        },
        "id": "FnooEqq4qWJz",
        "outputId": "2ce146ab-52c1-4178-a471-d0f75782cdb1"
      },
      "source": [
        "housing.head(5)"
      ],
      "execution_count": null,
      "outputs": [
        {
          "output_type": "execute_result",
          "data": {
            "text/html": [
              "<div>\n",
              "<style scoped>\n",
              "    .dataframe tbody tr th:only-of-type {\n",
              "        vertical-align: middle;\n",
              "    }\n",
              "\n",
              "    .dataframe tbody tr th {\n",
              "        vertical-align: top;\n",
              "    }\n",
              "\n",
              "    .dataframe thead th {\n",
              "        text-align: right;\n",
              "    }\n",
              "</style>\n",
              "<table border=\"1\" class=\"dataframe\">\n",
              "  <thead>\n",
              "    <tr style=\"text-align: right;\">\n",
              "      <th></th>\n",
              "      <th>RM</th>\n",
              "      <th>LSTAT</th>\n",
              "      <th>PTRATIO</th>\n",
              "      <th>MEDV</th>\n",
              "    </tr>\n",
              "  </thead>\n",
              "  <tbody>\n",
              "    <tr>\n",
              "      <th>0</th>\n",
              "      <td>6.58</td>\n",
              "      <td>4.98</td>\n",
              "      <td>15.30</td>\n",
              "      <td>504000.00</td>\n",
              "    </tr>\n",
              "    <tr>\n",
              "      <th>1</th>\n",
              "      <td>6.42</td>\n",
              "      <td>9.14</td>\n",
              "      <td>17.80</td>\n",
              "      <td>453600.00</td>\n",
              "    </tr>\n",
              "    <tr>\n",
              "      <th>2</th>\n",
              "      <td>7.18</td>\n",
              "      <td>4.03</td>\n",
              "      <td>17.80</td>\n",
              "      <td>728700.00</td>\n",
              "    </tr>\n",
              "    <tr>\n",
              "      <th>3</th>\n",
              "      <td>7.00</td>\n",
              "      <td>2.94</td>\n",
              "      <td>18.70</td>\n",
              "      <td>701400.00</td>\n",
              "    </tr>\n",
              "    <tr>\n",
              "      <th>4</th>\n",
              "      <td>7.15</td>\n",
              "      <td>5.33</td>\n",
              "      <td>18.70</td>\n",
              "      <td>760200.00</td>\n",
              "    </tr>\n",
              "  </tbody>\n",
              "</table>\n",
              "</div>"
            ],
            "text/plain": [
              "    RM  LSTAT  PTRATIO      MEDV\n",
              "0 6.58   4.98    15.30 504000.00\n",
              "1 6.42   9.14    17.80 453600.00\n",
              "2 7.18   4.03    17.80 728700.00\n",
              "3 7.00   2.94    18.70 701400.00\n",
              "4 7.15   5.33    18.70 760200.00"
            ]
          },
          "metadata": {},
          "execution_count": 128
        }
      ]
    },
    {
      "cell_type": "code",
      "metadata": {
        "id": "ftWfiCiyud53"
      },
      "source": [
        ""
      ],
      "execution_count": null,
      "outputs": []
    },
    {
      "cell_type": "markdown",
      "metadata": {
        "id": "2rMOGC22m8N6"
      },
      "source": [
        "Here are the few steps you can follow"
      ]
    },
    {
      "cell_type": "markdown",
      "metadata": {
        "id": "RGFzFBZmmOT6"
      },
      "source": [
        "\n",
        "\n",
        "# Step 1: Data Exploration (EDA)\n",
        "\n",
        "Familiarizing yourself with the data through an explorative process is a fundamental practice to help you better understand and justify your results.\n",
        "\n",
        "As a reminder, we are using three features from the Boston housing dataset: 'RM', 'LSTAT', and 'PTRATIO'. For each data point (neighborhood):\n",
        "\n",
        "- 'RM' is the average number of rooms among homes in the neighborhood.\n",
        "- 'LSTAT' is the percentage of homeowners in the neighborhood considered \"lower class\" (working poor).\n",
        "- 'PTRATIO' is the ratio of students to teachers in primary and secondary schools in the neighborhood.\n",
        "\n",
        "**Question**: For each of the three features above, do you think that an increase in the value of that feature would lead to an increase in the value of 'MEDV' or a decrease in the value of 'MEDV'? Justify your answer for each by plotting or calculating the correlation\n",
        "\n"
      ]
    },
    {
      "cell_type": "code",
      "metadata": {
        "colab": {
          "base_uri": "https://localhost:8080/",
          "height": 205
        },
        "id": "3b583VzvlIsU",
        "outputId": "f2fd670f-8c7c-4d9a-f845-62f6713ac528"
      },
      "source": [
        "housing.head()"
      ],
      "execution_count": null,
      "outputs": [
        {
          "output_type": "execute_result",
          "data": {
            "text/html": [
              "<div>\n",
              "<style scoped>\n",
              "    .dataframe tbody tr th:only-of-type {\n",
              "        vertical-align: middle;\n",
              "    }\n",
              "\n",
              "    .dataframe tbody tr th {\n",
              "        vertical-align: top;\n",
              "    }\n",
              "\n",
              "    .dataframe thead th {\n",
              "        text-align: right;\n",
              "    }\n",
              "</style>\n",
              "<table border=\"1\" class=\"dataframe\">\n",
              "  <thead>\n",
              "    <tr style=\"text-align: right;\">\n",
              "      <th></th>\n",
              "      <th>RM</th>\n",
              "      <th>LSTAT</th>\n",
              "      <th>PTRATIO</th>\n",
              "      <th>MEDV</th>\n",
              "    </tr>\n",
              "  </thead>\n",
              "  <tbody>\n",
              "    <tr>\n",
              "      <th>0</th>\n",
              "      <td>6.58</td>\n",
              "      <td>4.98</td>\n",
              "      <td>15.30</td>\n",
              "      <td>504000.00</td>\n",
              "    </tr>\n",
              "    <tr>\n",
              "      <th>1</th>\n",
              "      <td>6.42</td>\n",
              "      <td>9.14</td>\n",
              "      <td>17.80</td>\n",
              "      <td>453600.00</td>\n",
              "    </tr>\n",
              "    <tr>\n",
              "      <th>2</th>\n",
              "      <td>7.18</td>\n",
              "      <td>4.03</td>\n",
              "      <td>17.80</td>\n",
              "      <td>728700.00</td>\n",
              "    </tr>\n",
              "    <tr>\n",
              "      <th>3</th>\n",
              "      <td>7.00</td>\n",
              "      <td>2.94</td>\n",
              "      <td>18.70</td>\n",
              "      <td>701400.00</td>\n",
              "    </tr>\n",
              "    <tr>\n",
              "      <th>4</th>\n",
              "      <td>7.15</td>\n",
              "      <td>5.33</td>\n",
              "      <td>18.70</td>\n",
              "      <td>760200.00</td>\n",
              "    </tr>\n",
              "  </tbody>\n",
              "</table>\n",
              "</div>"
            ],
            "text/plain": [
              "    RM  LSTAT  PTRATIO      MEDV\n",
              "0 6.58   4.98    15.30 504000.00\n",
              "1 6.42   9.14    17.80 453600.00\n",
              "2 7.18   4.03    17.80 728700.00\n",
              "3 7.00   2.94    18.70 701400.00\n",
              "4 7.15   5.33    18.70 760200.00"
            ]
          },
          "metadata": {},
          "execution_count": 129
        }
      ]
    },
    {
      "cell_type": "code",
      "metadata": {
        "id": "-nHh-FYPm98r",
        "colab": {
          "base_uri": "https://localhost:8080/",
          "height": 372
        },
        "outputId": "455841a6-8ea4-4bf4-d69b-9d1316fade8b"
      },
      "source": [
        "# Observe correlation\n",
        "correlation = housing.corr()\n",
        "print(correlation)\n",
        "\n",
        "# Plot correlation\n",
        "sns.heatmap(correlation, annot=True)"
      ],
      "execution_count": null,
      "outputs": [
        {
          "output_type": "stream",
          "text": [
            "           RM  LSTAT  PTRATIO  MEDV\n",
            "RM       1.00  -0.61    -0.30  0.70\n",
            "LSTAT   -0.61   1.00     0.36 -0.76\n",
            "PTRATIO -0.30   0.36     1.00 -0.52\n",
            "MEDV     0.70  -0.76    -0.52  1.00\n"
          ],
          "name": "stdout"
        },
        {
          "output_type": "execute_result",
          "data": {
            "text/plain": [
              "<matplotlib.axes._subplots.AxesSubplot at 0x7f5bc0d64950>"
            ]
          },
          "metadata": {},
          "execution_count": 130
        },
        {
          "output_type": "display_data",
          "data": {
            "image/png": "[encoded data removed]",
            "text/plain": [
              "<Figure size 432x288 with 2 Axes>"
            ]
          },
          "metadata": {
            "needs_background": "light"
          }
        }
      ]
    },
    {
      "cell_type": "markdown",
      "metadata": {
        "id": "OfbYdYwyZSFw"
      },
      "source": [
        "COMMENTS:\n",
        "- **MEDV** has a moderately negative relationship with **PTRATIO** (-0.52)\n",
        "- **MEDV** has a strongly negative relationship with **LSTAT** (-0.76)\n",
        "- **MEDV** has a strongly positive relationship with **RM** (0.7)\n",
        "\n",
        "DETAILS:\n",
        "- Obviously, in the pure relationship between RM and MEDV (PTRATIO and LSTAT are constant), the higher RM is, the higher MEDV raise. In other words, more rooms mean that more space and area are added to the house, which leads to an increase in its price\n",
        "\n",
        "- In contrast, in the pure relationship, also, higher LSTAT definitely makes MEDV lower. The higher the poverty rate a neighborhood is, the harder and more negative considerations individuals have in terms of the environment for children to grow or simply the safety when they live in the high-poverty area, etc.\n",
        "\n",
        "- Also in the pure relationship, the higher LSTAT is, the lower MEDV is observed. The lower number of students per teacher is significantly better because the students will be paid more care and attention by their teacher, have more opportunities to interact with their teacher as well as more effectively approach the knowledge."
      ]
    },
    {
      "cell_type": "code",
      "metadata": {
        "id": "TBgJBxfFub-H"
      },
      "source": [
        ""
      ],
      "execution_count": null,
      "outputs": []
    },
    {
      "cell_type": "markdown",
      "metadata": {
        "id": "yEi9eqNqm-RH"
      },
      "source": [
        "# Step 2: Get to know our performance Metric\n",
        "\n",
        "Do a quick overview on Mean Absolute Error (MAE), because that is going to be the metric we are going to use for this task.\n",
        "\n",
        "**Example**: Calculate MAE on these data points by using the Sklearn library\n",
        "```python\n",
        "y_true = [3, -0.5, 2, 7, 4.2]\n",
        "y_pred = [2.5, 0, 2.1, 7.8, 5.3]\n",
        "```\n",
        "If a model is making these prediction (y_pred), is this a good model?"
      ]
    },
    {
      "cell_type": "code",
      "metadata": {
        "id": "7q2ZHBM0cU9o"
      },
      "source": [
        "y_true = pd.DataFrame(np.array([[3, -0.5, 2, 7, 4.2]]))\n",
        "y_pred = pd.DataFrame(np.array([[2.5, 0, 2.1, 7.8, 5.3]]))"
      ],
      "execution_count": null,
      "outputs": []
    },
    {
      "cell_type": "code",
      "metadata": {
        "colab": {
          "base_uri": "https://localhost:8080/"
        },
        "id": "CItJSDkAcswJ",
        "outputId": "ec6722e4-6630-4ea5-d916-0b92c4bcc9c6"
      },
      "source": [
        "print(y_true)\n",
        "print(y_pred)"
      ],
      "execution_count": null,
      "outputs": [
        {
          "output_type": "stream",
          "text": [
            "     0     1    2    3    4\n",
            "0 3.00 -0.50 2.00 7.00 4.20\n",
            "     0    1    2    3    4\n",
            "0 2.50 0.00 2.10 7.80 5.30\n"
          ],
          "name": "stdout"
        }
      ]
    },
    {
      "cell_type": "code",
      "metadata": {
        "id": "ArkOOX2MnvoF",
        "colab": {
          "base_uri": "https://localhost:8080/"
        },
        "outputId": "9f41b63a-cb2a-4c31-b0ab-8cbe7678b66f"
      },
      "source": [
        "from sklearn.metrics import mean_absolute_error\n",
        "mean_absolute_error(y_true, y_pred)"
      ],
      "execution_count": null,
      "outputs": [
        {
          "output_type": "execute_result",
          "data": {
            "text/plain": [
              "0.5999999999999999"
            ]
          },
          "metadata": {},
          "execution_count": 133
        }
      ]
    },
    {
      "cell_type": "markdown",
      "metadata": {
        "id": "QzZwf0bX0_3p"
      },
      "source": [
        "`\"mean_absolute_error = 0.5999999999999999\"` implies that, on average, the difference between the true and the predicted values is ~0.6. The result presents an interestingly low loss for a fairly good model.\n",
        "\n",
        "On the other hand, just having the information of the pair of y_true and y_pred, except code, so we are not able to know whether the model has been updated enough and whether there is still any ideally lowest loss?"
      ]
    },
    {
      "cell_type": "code",
      "metadata": {
        "id": "rJFe19hOuaJr"
      },
      "source": [
        ""
      ],
      "execution_count": null,
      "outputs": []
    },
    {
      "cell_type": "markdown",
      "metadata": {
        "id": "X78OJElUnwfE"
      },
      "source": [
        "# Step 3: Train our machine learning model\n",
        "\n",
        "Your task is to build a pipeline to preprocess this data and train a linear regression model to predict the house price. Make sure to follow all the recommended practices we mention in class. \n",
        "\n",
        "Here are 2 pipelines you should implement \n",
        "- The first pipeline include: MinMaxScaler (or Standard Scaler) as **Transformer** (to preprocess), and Linear Regression as **Estimator** (machine learning model)\n",
        "\n",
        "- The second pipeline include: Polynomial Feature, **then** Standard Scaler as **Transformers**, and Linear Regression as **Estimator**. Pay attention that you have 2 transformers in a very specific order.\n",
        "\n",
        "\n",
        "\n",
        "\n"
      ]
    },
    {
      "cell_type": "code",
      "metadata": {
        "id": "tjMnpPnq3kCp"
      },
      "source": [
        "# Define your first pipeline here\n",
        "linear_pipeline = Pipeline([('scale_by_min_max', MinMaxScaler()),\n",
        "                            ('model_1', LinearRegression())])"
      ],
      "execution_count": null,
      "outputs": []
    },
    {
      "cell_type": "code",
      "metadata": {
        "id": "GxWRvSLd3mfc"
      },
      "source": [
        "# Define your second pipeline here\n",
        "poly_pipeline = Pipeline([('poly_feature', PolynomialFeatures()),\n",
        "                          ('scale_by_standard', StandardScaler()),\n",
        "                          ('model_2', LinearRegression())])"
      ],
      "execution_count": null,
      "outputs": []
    },
    {
      "cell_type": "markdown",
      "metadata": {
        "id": "NmZvaFnG2HA2"
      },
      "source": [
        "## Part 1: Use a simple train-test split\n",
        "\n",
        "*Do these following step for the first pipeline only*:\n",
        "\n",
        "- Use sklearn `train_test_split` to split data into train set and test set. Use random_state = 42\n",
        "- Fit the pipeline on train set\n",
        "- Use pipline to predict the test set\n",
        "- Calculate the MAE on test set"
      ]
    },
    {
      "cell_type": "code",
      "metadata": {
        "id": "5AufS9xkpbO1"
      },
      "source": [
        "# Split train and test dataset\n",
        "x_train, x_test, y_train, y_test = train_test_split(housing.drop(columns='MEDV'),\n",
        "                                                    housing['MEDV'],\n",
        "                                                    test_size=0.2,\n",
        "                                                    random_state=42)"
      ],
      "execution_count": null,
      "outputs": []
    },
    {
      "cell_type": "code",
      "metadata": {
        "colab": {
          "base_uri": "https://localhost:8080/",
          "height": 205
        },
        "id": "FSdI81a5HJhh",
        "outputId": "96e365ae-bc2f-4395-cbb6-0d56aad60b23"
      },
      "source": [
        "x_train.head()"
      ],
      "execution_count": null,
      "outputs": [
        {
          "output_type": "execute_result",
          "data": {
            "text/html": [
              "<div>\n",
              "<style scoped>\n",
              "    .dataframe tbody tr th:only-of-type {\n",
              "        vertical-align: middle;\n",
              "    }\n",
              "\n",
              "    .dataframe tbody tr th {\n",
              "        vertical-align: top;\n",
              "    }\n",
              "\n",
              "    .dataframe thead th {\n",
              "        text-align: right;\n",
              "    }\n",
              "</style>\n",
              "<table border=\"1\" class=\"dataframe\">\n",
              "  <thead>\n",
              "    <tr style=\"text-align: right;\">\n",
              "      <th></th>\n",
              "      <th>RM</th>\n",
              "      <th>LSTAT</th>\n",
              "      <th>PTRATIO</th>\n",
              "    </tr>\n",
              "  </thead>\n",
              "  <tbody>\n",
              "    <tr>\n",
              "      <th>325</th>\n",
              "      <td>5.87</td>\n",
              "      <td>9.80</td>\n",
              "      <td>20.20</td>\n",
              "    </tr>\n",
              "    <tr>\n",
              "      <th>140</th>\n",
              "      <td>6.17</td>\n",
              "      <td>24.16</td>\n",
              "      <td>21.20</td>\n",
              "    </tr>\n",
              "    <tr>\n",
              "      <th>433</th>\n",
              "      <td>6.75</td>\n",
              "      <td>17.44</td>\n",
              "      <td>20.20</td>\n",
              "    </tr>\n",
              "    <tr>\n",
              "      <th>416</th>\n",
              "      <td>6.44</td>\n",
              "      <td>16.22</td>\n",
              "      <td>20.20</td>\n",
              "    </tr>\n",
              "    <tr>\n",
              "      <th>487</th>\n",
              "      <td>6.79</td>\n",
              "      <td>6.48</td>\n",
              "      <td>21.00</td>\n",
              "    </tr>\n",
              "  </tbody>\n",
              "</table>\n",
              "</div>"
            ],
            "text/plain": [
              "      RM  LSTAT  PTRATIO\n",
              "325 5.87   9.80    20.20\n",
              "140 6.17  24.16    21.20\n",
              "433 6.75  17.44    20.20\n",
              "416 6.44  16.22    20.20\n",
              "487 6.79   6.48    21.00"
            ]
          },
          "metadata": {},
          "execution_count": 137
        }
      ]
    },
    {
      "cell_type": "code",
      "metadata": {
        "colab": {
          "base_uri": "https://localhost:8080/"
        },
        "id": "c6EHs-T2tAal",
        "outputId": "2b687faa-dab1-4de5-e68e-f30ba8326509"
      },
      "source": [
        "# Overview x_train\n",
        "x_train.info()"
      ],
      "execution_count": null,
      "outputs": [
        {
          "output_type": "stream",
          "text": [
            "<class 'pandas.core.frame.DataFrame'>\n",
            "Int64Index: 391 entries, 325 to 102\n",
            "Data columns (total 3 columns):\n",
            " #   Column   Non-Null Count  Dtype  \n",
            "---  ------   --------------  -----  \n",
            " 0   RM       391 non-null    float64\n",
            " 1   LSTAT    391 non-null    float64\n",
            " 2   PTRATIO  391 non-null    float64\n",
            "dtypes: float64(3)\n",
            "memory usage: 12.2 KB\n"
          ],
          "name": "stdout"
        }
      ]
    },
    {
      "cell_type": "code",
      "metadata": {
        "colab": {
          "base_uri": "https://localhost:8080/"
        },
        "id": "CyS6gzTHtJHy",
        "outputId": "be01b132-2d43-4357-c09d-61861f8df479"
      },
      "source": [
        "# Overview x_test\n",
        "x_test.info()"
      ],
      "execution_count": null,
      "outputs": [
        {
          "output_type": "stream",
          "text": [
            "<class 'pandas.core.frame.DataFrame'>\n",
            "Int64Index: 98 entries, 451 to 398\n",
            "Data columns (total 3 columns):\n",
            " #   Column   Non-Null Count  Dtype  \n",
            "---  ------   --------------  -----  \n",
            " 0   RM       98 non-null     float64\n",
            " 1   LSTAT    98 non-null     float64\n",
            " 2   PTRATIO  98 non-null     float64\n",
            "dtypes: float64(3)\n",
            "memory usage: 3.1 KB\n"
          ],
          "name": "stdout"
        }
      ]
    },
    {
      "cell_type": "code",
      "metadata": {
        "colab": {
          "base_uri": "https://localhost:8080/"
        },
        "id": "JEDElu08tUa4",
        "outputId": "e2b761a1-09bd-4fff-aec3-9ba57f1482bb"
      },
      "source": [
        "# Overview y_train\n",
        "y_train.head()"
      ],
      "execution_count": null,
      "outputs": [
        {
          "output_type": "execute_result",
          "data": {
            "text/plain": [
              "325   409500.00\n",
              "140   294000.00\n",
              "433   281400.00\n",
              "416   300300.00\n",
              "487   462000.00\n",
              "Name: MEDV, dtype: float64"
            ]
          },
          "metadata": {},
          "execution_count": 140
        }
      ]
    },
    {
      "cell_type": "code",
      "metadata": {
        "colab": {
          "base_uri": "https://localhost:8080/"
        },
        "id": "SfnrbpObtXmW",
        "outputId": "2f90b889-c12d-4a61-e5c1-f1dfe1100ee8"
      },
      "source": [
        "# Overview y_test\n",
        "y_test.head()"
      ],
      "execution_count": null,
      "outputs": [
        {
          "output_type": "execute_result",
          "data": {
            "text/plain": [
              "451   401100.00\n",
              "84    501900.00\n",
              "434   319200.00\n",
              "472   147000.00\n",
              "428   247800.00\n",
              "Name: MEDV, dtype: float64"
            ]
          },
          "metadata": {},
          "execution_count": 141
        }
      ]
    },
    {
      "cell_type": "code",
      "metadata": {
        "id": "AdSrkIr4svWE"
      },
      "source": [
        "# Fit x_train\n",
        "x_train_trained = linear_pipeline.fit(x_train, y_train)"
      ],
      "execution_count": null,
      "outputs": []
    },
    {
      "cell_type": "code",
      "metadata": {
        "colab": {
          "base_uri": "https://localhost:8080/"
        },
        "id": "rK-igFtWG73L",
        "outputId": "ff04dff3-4d1f-447b-f09d-914e2dd5563a"
      },
      "source": [
        "# Overview transformed x_train\n",
        "linear_pipeline['scale_by_min_max'].transform(x_train)"
      ],
      "execution_count": null,
      "outputs": [
        {
          "output_type": "execute_result",
          "data": {
            "text/plain": [
              "array([[0.47715526, 0.21728258, 0.80851064],\n",
              "       [0.54021087, 0.6162823 , 0.91489362],\n",
              "       [0.65908621, 0.42956377, 0.80851064],\n",
              "       ...,\n",
              "       [0.52739301, 0.29702695, 0.80851064],\n",
              "       [0.56563986, 0.42484023, 0.80851064],\n",
              "       [0.58796775, 0.24034454, 0.88297872]])"
            ]
          },
          "metadata": {},
          "execution_count": 143
        }
      ]
    },
    {
      "cell_type": "code",
      "metadata": {
        "id": "vREkk6MdvBef"
      },
      "source": [
        "# Predict y_train set\n",
        "y_train_pred_1 = linear_pipeline.predict(x_train)\n",
        "\n",
        "# Predict y_test set\n",
        "y_test_pred_1 = linear_pipeline.predict(x_test)"
      ],
      "execution_count": null,
      "outputs": []
    },
    {
      "cell_type": "code",
      "metadata": {
        "colab": {
          "base_uri": "https://localhost:8080/"
        },
        "id": "krlWKCHAv18Q",
        "outputId": "4ff6e32e-0594-47aa-809d-93cfb8e4e45a"
      },
      "source": [
        "# Calculate MAE\n",
        "loss = mean_absolute_error(y_test, y_test_pred_1)\n",
        "loss"
      ],
      "execution_count": null,
      "outputs": [
        {
          "output_type": "execute_result",
          "data": {
            "text/plain": [
              "64277.288656703386"
            ]
          },
          "metadata": {},
          "execution_count": 145
        }
      ]
    },
    {
      "cell_type": "markdown",
      "metadata": {
        "id": "cgC6Fpme3t0d"
      },
      "source": [
        "## Part 2: Use 5 fold cross-validation without polynomial features\n",
        "\n",
        "In this part we will not do a simple train-test split. Instead, we will do \n",
        "\n",
        "1.   List item\n",
        "2.   List item\n",
        "\n",
        "train-test split 5 times and then calculate the mean of the MAE score for these 5 test set."
      ]
    },
    {
      "cell_type": "code",
      "metadata": {
        "id": "T2fAhckg75HV",
        "colab": {
          "base_uri": "https://localhost:8080/"
        },
        "outputId": "6facb3d6-9d4b-4dcc-bc63-dc9a062ad808"
      },
      "source": [
        "# 5 fold cross-validation without Polynomial Features\n",
        "without_poly = cross_val_score(linear_pipeline, housing.drop(columns='MEDV'), housing['MEDV'], scoring=\"neg_mean_absolute_error\", cv=5) * np.array(-1)\n",
        "print(without_poly)\n",
        "\n",
        "loss_1 = np.mean(without_poly)\n",
        "print(loss_1)"
      ],
      "execution_count": null,
      "outputs": [
        {
          "output_type": "stream",
          "text": [
            "[43813.0860629  72928.11409471 95899.64728565 80260.79735502\n",
            " 83546.26020565]\n",
            "75289.58100078856\n"
          ],
          "name": "stdout"
        }
      ]
    },
    {
      "cell_type": "code",
      "metadata": {
        "id": "EvgXVKgpuViJ"
      },
      "source": [
        ""
      ],
      "execution_count": null,
      "outputs": []
    },
    {
      "cell_type": "markdown",
      "metadata": {
        "id": "WKntpuyt77c7"
      },
      "source": [
        "## Part 3: Use 5 fold cross-validation with polynomial features"
      ]
    },
    {
      "cell_type": "markdown",
      "metadata": {
        "id": "SWWQRvHt7_ZX"
      },
      "source": [
        "Repeat everything done in **Part 2** on the second pipeline (The one with Polynomial Feature as one of the transformer). For this one, write a `for` loop to test out different degree for Polynomial Feature. Here is roughly what your code should look like\n",
        "```\n",
        "for each value n in a range of our choice:\n",
        "    - create a pipeline including Polynomial Feature(degree=n) => MinMaxScaler => Linear Regression\n",
        "    - call cross_val_score on this pipeline\n",
        "    - calculate mean of MAE scores from cross validation\n",
        "```\n",
        "\n"
      ]
    },
    {
      "cell_type": "code",
      "metadata": {
        "id": "CxwX9opy7o4p",
        "colab": {
          "base_uri": "https://localhost:8080/"
        },
        "outputId": "a45efcb4-b4a4-4f1a-8137-168444229578"
      },
      "source": [
        "for n in range (1, 4):\n",
        "    poly_pipe = Pipeline([('polynomial', PolynomialFeatures(degree=n)),\n",
        "                          ('scaler', MinMaxScaler()),\n",
        "                          ('model_3', LinearRegression())])\n",
        "    with_poly = cross_val_score(poly_pipe, housing.drop(columns='MEDV'), housing['MEDV'], scoring=\"neg_mean_absolute_error\", cv=5)\n",
        "    with_poly = with_poly * np.array(-1)\n",
        "    print(with_poly)\n",
        "\n",
        "loss_2 = np.mean(with_poly)\n",
        "loss_2"
      ],
      "execution_count": null,
      "outputs": [
        {
          "output_type": "stream",
          "text": [
            "[35384.88017358 87992.17228758 58956.91386363 69818.8419022\n",
            " 59955.72923423]\n"
          ],
          "name": "stdout"
        },
        {
          "output_type": "execute_result",
          "data": {
            "text/plain": [
              "62421.707492244735"
            ]
          },
          "metadata": {},
          "execution_count": 147
        }
      ]
    },
    {
      "cell_type": "markdown",
      "metadata": {
        "id": "QXqPft9RAdfU"
      },
      "source": [
        "### TRY WITH **GridSearchCV**"
      ]
    },
    {
      "cell_type": "code",
      "metadata": {
        "id": "8k0S9WMeuWkh"
      },
      "source": [
        "A = housing.drop(columns='MEDV')"
      ],
      "execution_count": null,
      "outputs": []
    },
    {
      "cell_type": "code",
      "metadata": {
        "id": "L_UWYu3y5bb-"
      },
      "source": [
        "B = housing['MEDV']"
      ],
      "execution_count": null,
      "outputs": []
    },
    {
      "cell_type": "markdown",
      "metadata": {
        "id": "nO4Zr1IwCqFA"
      },
      "source": [
        "*Bonus*: after you finish this lab, go back to this question, and consider a better way to search for the best degree by using gridsearchCV: https://scikit-learn.org/stable/modules/generated/sklearn.model_selection.GridSearchCV.html\n"
      ]
    },
    {
      "cell_type": "code",
      "metadata": {
        "colab": {
          "base_uri": "https://localhost:8080/"
        },
        "id": "j92u5qpvyaYQ",
        "outputId": "a0bfef51-dee6-4bda-f2f6-2be58e43d084"
      },
      "source": [
        "from sklearn.model_selection import GridSearchCV\n",
        "parameters = {'poly_feature__degree' : range(1, 11)}\n",
        "grid_cv = GridSearchCV(estimator=poly_pipeline, param_grid=parameters, scoring='neg_mean_absolute_error', cv=KFold())\n",
        "grid_cv.fit(A, B)\n",
        "grid_cv.score(A, B)"
      ],
      "execution_count": null,
      "outputs": [
        {
          "output_type": "execute_result",
          "data": {
            "text/plain": [
              "0.8365792776805879"
            ]
          },
          "metadata": {},
          "execution_count": 150
        }
      ]
    },
    {
      "cell_type": "code",
      "metadata": {
        "id": "ivFs_7QBEQpS"
      },
      "source": [
        ""
      ],
      "execution_count": null,
      "outputs": []
    },
    {
      "cell_type": "markdown",
      "metadata": {
        "id": "mrwhDUznpbzB"
      },
      "source": [
        "# Step 4: Reporting MAE\n",
        "\n",
        "From part 2 and part 3, which pipeline ends up with the lowest mean MAE from cross validation? And what is that MAE?"
      ]
    },
    {
      "cell_type": "markdown",
      "metadata": {
        "id": "Eo70MI5ZbUn8"
      },
      "source": [
        "- Between the two model, poly_pipe (second pipeline) have the lowest loss with more than 12000 lower than the linear_pipeline (first pipeline) in terms of the mean of the score calculated by 5 models.\n",
        "> As a result, for further analysis, I would prefer to choose the Polynomial Features.\n",
        "\n",
        "- MAE or mean absolute error, is the square root of MSE (mean square error) used as loss function to describe more detail in terms of predicted information of model and compare the difference between the values predicted by the model and the true values. This function has the same scale as our inputs and labels, therefore, MAE penalizes the model less than MSE.\n",
        "> The lower MAE or MSE the model has, the more efficient and reliable predictions we receive."
      ]
    },
    {
      "cell_type": "code",
      "metadata": {
        "id": "5ysQtmv7jJz0"
      },
      "source": [
        ""
      ],
      "execution_count": null,
      "outputs": []
    },
    {
      "cell_type": "markdown",
      "metadata": {
        "id": "pvNfEbcYqtAU"
      },
      "source": [
        "# Step 5: Making predictions"
      ]
    },
    {
      "cell_type": "markdown",
      "metadata": {
        "id": "vwDl5_7qqurr"
      },
      "source": [
        "Imagine that you were a real estate agent in the Boston area looking to use this model to help price homes owned by your clients that they wish to sell. You have collected the following information from three of your clients:\n",
        "\n",
        "|Feature\t|Client 1\t|Client 2\t|Client 3|\n",
        "|-----------|-----------|-----------|--------|\n",
        "|Total number of rooms in home\t|5 rooms\t|4 rooms\t|8 rooms|\n",
        "|Neighborhood poverty level (as %)\t|17%\t|32%\t|3%|\n",
        "|Student-teacher ratio of nearby schools\t|15-to-1\t|22-to-1\t|12-to-1|\n",
        "\n",
        "Based on your model, what price would you recommend each client sell his/her home at?\n"
      ]
    },
    {
      "cell_type": "markdown",
      "metadata": {
        "id": "TzTxuKu2-c0C"
      },
      "source": [
        "Note that at this point, you haven't had a trained model to make the prediction on this data. So we will create a pipeline and train it.\n",
        "\n",
        "To do this question, you need to\n",
        "- Redefine the best pipeline that you report in step 4\n",
        "- **Fit** this pipeline on the entire dataset given at the beginning (we don't need to do train/test split here as we already know this is our best pipeline)\n",
        "- Manually create a new test data including 3 clients from the table above\n",
        "- Use the pipeline you have fitted to **predict** this new test data\n",
        "- Save the prediction to a variable called `client_preds`"
      ]
    },
    {
      "cell_type": "code",
      "metadata": {
        "id": "pr36ECvDdIpa"
      },
      "source": [
        "# Define features and price for model trainning\n",
        "Features = housing.drop(columns='MEDV', axis=1)\n",
        "Price = housing['MEDV']"
      ],
      "execution_count": null,
      "outputs": []
    },
    {
      "cell_type": "code",
      "metadata": {
        "colab": {
          "base_uri": "https://localhost:8080/",
          "height": 473
        },
        "id": "HzKFCySjjBXt",
        "outputId": "058c90d9-7ac3-4c69-9726-d9d8238cb7d0"
      },
      "source": [
        "# Plot the relationships\n",
        "plt.figure(figsize=(25,5))\n",
        "\n",
        "plt.subplot(131)\n",
        "sns.regplot(housing['RM'], Price)\n",
        "\n",
        "plt.subplot(132)\n",
        "sns.regplot(housing['LSTAT'], Price)\n",
        "\n",
        "plt.subplot(133)\n",
        "sns.regplot(housing['PTRATIO'], Price)\n",
        "\n",
        "plt.plot()"
      ],
      "execution_count": null,
      "outputs": [
        {
          "output_type": "stream",
          "text": [
            "/usr/local/lib/python3.7/dist-packages/seaborn/_decorators.py:43: FutureWarning: Pass the following variables as keyword args: x, y. From version 0.12, the only valid positional argument will be `data`, and passing other arguments without an explicit keyword will result in an error or misinterpretation.\n",
            "  FutureWarning\n",
            "/usr/local/lib/python3.7/dist-packages/seaborn/_decorators.py:43: FutureWarning: Pass the following variables as keyword args: x, y. From version 0.12, the only valid positional argument will be `data`, and passing other arguments without an explicit keyword will result in an error or misinterpretation.\n",
            "  FutureWarning\n",
            "/usr/local/lib/python3.7/dist-packages/seaborn/_decorators.py:43: FutureWarning: Pass the following variables as keyword args: x, y. From version 0.12, the only valid positional argument will be `data`, and passing other arguments without an explicit keyword will result in an error or misinterpretation.\n",
            "  FutureWarning\n"
          ],
          "name": "stderr"
        },
        {
          "output_type": "execute_result",
          "data": {
            "text/plain": [
              "[]"
            ]
          },
          "metadata": {},
          "execution_count": 152
        },
        {
          "output_type": "display_data",
          "data": {
            "image/png": "[encoded data removed]",
            "text/plain": [
              "<Figure size 1800x360 with 3 Axes>"
            ]
          },
          "metadata": {
            "needs_background": "light"
          }
        }
      ]
    },
    {
      "cell_type": "code",
      "metadata": {
        "id": "qUn1nxEq_eMu"
      },
      "source": [
        "# Define training pipeline\n",
        "poly_pipeline = Pipeline([('poly_features', PolynomialFeatures()),\n",
        "                          ('scale_by_standard', StandardScaler()),\n",
        "                          ('model', LinearRegression())])"
      ],
      "execution_count": null,
      "outputs": []
    },
    {
      "cell_type": "code",
      "metadata": {
        "id": "3ynugtVJAHWX"
      },
      "source": [
        "# Train price prediction model\n",
        "trained_model = poly_pipeline.fit(Features, Price)"
      ],
      "execution_count": null,
      "outputs": []
    },
    {
      "cell_type": "code",
      "metadata": {
        "colab": {
          "base_uri": "https://localhost:8080/",
          "height": 143
        },
        "id": "mHINu7tUdaC6",
        "outputId": "82f4a206-b769-477a-a016-62f4196812c0"
      },
      "source": [
        "# Create client dataset\n",
        "client_test_set = pd.DataFrame(np.array([[5, 17, 15],\n",
        "                                        [4, 32, 22],\n",
        "                                        [8, 3, 12]]), columns = ['RM', 'LSTAT', 'PTRATIO'])\n",
        "client_test_set"
      ],
      "execution_count": null,
      "outputs": [
        {
          "output_type": "execute_result",
          "data": {
            "text/html": [
              "<div>\n",
              "<style scoped>\n",
              "    .dataframe tbody tr th:only-of-type {\n",
              "        vertical-align: middle;\n",
              "    }\n",
              "\n",
              "    .dataframe tbody tr th {\n",
              "        vertical-align: top;\n",
              "    }\n",
              "\n",
              "    .dataframe thead th {\n",
              "        text-align: right;\n",
              "    }\n",
              "</style>\n",
              "<table border=\"1\" class=\"dataframe\">\n",
              "  <thead>\n",
              "    <tr style=\"text-align: right;\">\n",
              "      <th></th>\n",
              "      <th>RM</th>\n",
              "      <th>LSTAT</th>\n",
              "      <th>PTRATIO</th>\n",
              "    </tr>\n",
              "  </thead>\n",
              "  <tbody>\n",
              "    <tr>\n",
              "      <th>0</th>\n",
              "      <td>5</td>\n",
              "      <td>17</td>\n",
              "      <td>15</td>\n",
              "    </tr>\n",
              "    <tr>\n",
              "      <th>1</th>\n",
              "      <td>4</td>\n",
              "      <td>32</td>\n",
              "      <td>22</td>\n",
              "    </tr>\n",
              "    <tr>\n",
              "      <th>2</th>\n",
              "      <td>8</td>\n",
              "      <td>3</td>\n",
              "      <td>12</td>\n",
              "    </tr>\n",
              "  </tbody>\n",
              "</table>\n",
              "</div>"
            ],
            "text/plain": [
              "   RM  LSTAT  PTRATIO\n",
              "0   5     17       15\n",
              "1   4     32       22\n",
              "2   8      3       12"
            ]
          },
          "metadata": {},
          "execution_count": 155
        }
      ]
    },
    {
      "cell_type": "code",
      "metadata": {
        "colab": {
          "base_uri": "https://localhost:8080/"
        },
        "id": "NxkM8GrbnzDs",
        "outputId": "28979800-c10e-4372-dc8b-da6905ee0dbe"
      },
      "source": [
        "# Predict price for the 3 clients\n",
        "client_preds = trained_model.predict(client_test_set)\n",
        "client_preds"
      ],
      "execution_count": null,
      "outputs": [
        {
          "output_type": "execute_result",
          "data": {
            "text/plain": [
              "array([ 327950.18390708,  347416.94630115, 1020603.8898358 ])"
            ]
          },
          "metadata": {},
          "execution_count": 156
        }
      ]
    },
    {
      "cell_type": "code",
      "metadata": {
        "colab": {
          "base_uri": "https://localhost:8080/"
        },
        "id": "mTunolS_teE8",
        "outputId": "9215b691-fa05-4d7d-cb84-8544e164dc29"
      },
      "source": [
        "# Check for the median of price\n",
        "np.median(Price)"
      ],
      "execution_count": null,
      "outputs": [
        {
          "output_type": "execute_result",
          "data": {
            "text/plain": [
              "438900.0"
            ]
          },
          "metadata": {},
          "execution_count": 157
        }
      ]
    },
    {
      "cell_type": "code",
      "metadata": {
        "colab": {
          "base_uri": "https://localhost:8080/"
        },
        "id": "zgpbN-JxwBi9",
        "outputId": "951a37da-6a03-46e8-ebc2-471c4a913360"
      },
      "source": [
        "# Check for the description of price\n",
        "Price.describe()"
      ],
      "execution_count": null,
      "outputs": [
        {
          "output_type": "execute_result",
          "data": {
            "text/plain": [
              "count       489.00\n",
              "mean     454342.94\n",
              "std      165340.28\n",
              "min      105000.00\n",
              "25%      350700.00\n",
              "50%      438900.00\n",
              "75%      518700.00\n",
              "max     1024800.00\n",
              "Name: MEDV, dtype: float64"
            ]
          },
          "metadata": {},
          "execution_count": 158
        }
      ]
    },
    {
      "cell_type": "code",
      "metadata": {
        "colab": {
          "base_uri": "https://localhost:8080/",
          "height": 143
        },
        "id": "Pw1uWB3szM2h",
        "outputId": "ea6ea351-4577-4f8b-f967-99ce2929d9c5"
      },
      "source": [
        "# Overview client prediction result\n",
        "client_result = pd.DataFrame(data=client_preds, columns=['Recommended Price'])\n",
        "client_result = pd.concat([client_result, client_test_set], axis=1)\n",
        "client_result = client_result.rename(index={0:'Client 1', 1:'Client 2', 2: 'Client 3'})\n",
        "client_result"
      ],
      "execution_count": null,
      "outputs": [
        {
          "output_type": "execute_result",
          "data": {
            "text/html": [
              "<div>\n",
              "<style scoped>\n",
              "    .dataframe tbody tr th:only-of-type {\n",
              "        vertical-align: middle;\n",
              "    }\n",
              "\n",
              "    .dataframe tbody tr th {\n",
              "        vertical-align: top;\n",
              "    }\n",
              "\n",
              "    .dataframe thead th {\n",
              "        text-align: right;\n",
              "    }\n",
              "</style>\n",
              "<table border=\"1\" class=\"dataframe\">\n",
              "  <thead>\n",
              "    <tr style=\"text-align: right;\">\n",
              "      <th></th>\n",
              "      <th>Recommended Price</th>\n",
              "      <th>RM</th>\n",
              "      <th>LSTAT</th>\n",
              "      <th>PTRATIO</th>\n",
              "    </tr>\n",
              "  </thead>\n",
              "  <tbody>\n",
              "    <tr>\n",
              "      <th>Client 1</th>\n",
              "      <td>327950.18</td>\n",
              "      <td>5</td>\n",
              "      <td>17</td>\n",
              "      <td>15</td>\n",
              "    </tr>\n",
              "    <tr>\n",
              "      <th>Client 2</th>\n",
              "      <td>347416.95</td>\n",
              "      <td>4</td>\n",
              "      <td>32</td>\n",
              "      <td>22</td>\n",
              "    </tr>\n",
              "    <tr>\n",
              "      <th>Client 3</th>\n",
              "      <td>1020603.89</td>\n",
              "      <td>8</td>\n",
              "      <td>3</td>\n",
              "      <td>12</td>\n",
              "    </tr>\n",
              "  </tbody>\n",
              "</table>\n",
              "</div>"
            ],
            "text/plain": [
              "          Recommended Price  RM  LSTAT  PTRATIO\n",
              "Client 1          327950.18   5     17       15\n",
              "Client 2          347416.95   4     32       22\n",
              "Client 3         1020603.89   8      3       12"
            ]
          },
          "metadata": {},
          "execution_count": 159
        }
      ]
    },
    {
      "cell_type": "markdown",
      "metadata": {
        "id": "c91GcJAK_g1W"
      },
      "source": [
        "After you have your variable `client_preds`, run this code to visualize your predictions against the home prices (MEDV)\n",
        "\n",
        "```python\n",
        "import matplotlib.pyplot as plt\n",
        "for i,price in enumerate(client_preds):\n",
        "    plt.hist(y, bins = 30,color='r',ec='black')\n",
        "    plt.axvline(price, lw = 3)\n",
        "    plt.text(price-50000, 40, 'Client '+str(i+1), rotation=90)\n",
        "```\n",
        "\n",
        "Note that \n",
        "- `client_preds` should be a vector of size 3 (since we only have 3 records in the new test set) \n",
        "- `y` should be the column MEDV in the dataset you use to train"
      ]
    },
    {
      "cell_type": "code",
      "metadata": {
        "id": "LwoWyxr4BEcU",
        "colab": {
          "base_uri": "https://localhost:8080/",
          "height": 278
        },
        "outputId": "affff63b-ebc8-48c8-b96a-0ada737c2998"
      },
      "source": [
        "import matplotlib.pyplot as plt\n",
        "for i,price in enumerate(client_preds):\n",
        "    plt.hist(Price, bins = 30,color='r',ec='black')\n",
        "    plt.axvline(price, lw = 3)\n",
        "    plt.text(price-50000, 40, 'Client '+str(i+1), rotation=90)"
      ],
      "execution_count": null,
      "outputs": [
        {
          "output_type": "display_data",
          "data": {
            "image/png": "[encoded data removed]",
            "text/plain": [
              "<Figure size 432x288 with 1 Axes>"
            ]
          },
          "metadata": {
            "needs_background": "light"
          }
        }
      ]
    },
    {
      "cell_type": "markdown",
      "metadata": {
        "id": "5TjIFnYmBEwr"
      },
      "source": [
        "Do these prices seem reasonable given the values for the respective features?"
      ]
    },
    {
      "cell_type": "markdown",
      "metadata": {
        "id": "wzMQS9jz19ft"
      },
      "source": [
        "- Both Client 1 and Client 2 have suggestions of the under-mean-and-median price, which is independently appropriate, in general. However, if we have a back and forth look at the features (RM, LSTAT, and PTRATIO), there is a conflict in the system's suggestions. In detail, the price of client 2 is higher than client 1. Client 1 not only has one room more than client 2 but also seems to be the average poverty (17%) with a lower ratio of students and teachers (15:1) while client 2 is considered to be the high poverty class (32%) with a higher ratio of students and teachers (22:1).\n",
        "\n",
        "- Around one million is the price suggested for client 3 which is reasonably suitable for many aspects: the total number of rooms is 8, both the poverty percentage (3%) and the ratio of students and teachers (12:1) are low which defines this client as a wealthy neighborhood.\n",
        "\n",
        "In a nutshell, client 3 has the most reasonable suggestion. On the other hand, the model should be updated to have a more appropriate price for clients 1 and 2."
      ]
    },
    {
      "cell_type": "code",
      "metadata": {
        "id": "QIdHR9KAuTDX"
      },
      "source": [
        ""
      ],
      "execution_count": null,
      "outputs": []
    },
    {
      "cell_type": "markdown",
      "metadata": {
        "id": "Wwq9I7Nor0CP"
      },
      "source": [
        "# Step 6: Applicability\n",
        "\n",
        "In a few sentences, discuss whether the constructed model should or should not be used in a real-world setting.\n",
        "\n",
        "Hint: Take a look at the range in prices as calculated in the code snippet above. Some questions to answering:\n",
        "\n",
        "- How relevant today is data that was collected from 1978? How important is inflation?\n",
        "- Are the features present in the data sufficient to describe a home? Do you think factors like quality of apppliances in the home, square feet of the plot area, presence of pool or not etc should factor in?\n",
        "- Is the model robust enough to make consistent predictions?\n",
        "Would data collected in an urban city like Boston be applicable in a rural city?\n",
        "- Is it fair to judge the price of an individual home based on the characteristics of the entire neighborhood?"
      ]
    },
    {
      "cell_type": "markdown",
      "metadata": {
        "id": "KrY7_yi1DlCZ"
      },
      "source": [
        "EXPLORATION:\n",
        "- The dataset collected in 1978 is not really relevant to today's reality for many reasons such as the difference in both internal and external elements such as opinion, housing choosing standard, behavior, financial status, economic situations, inflation, crisis, etc. In detail, due to much inflation throughout the past, especially, one of the largest with long-term effect was the global housing crisis in 2008, or the crisis of real estates this 2021, makes the price many times exaggerate which fluctuates sharply and hard to predict.\n",
        "\n",
        "- The chosen features used in this prediction are actually ineffective and not enough in describing a home, especially for pricing objectives. For instead, the house parameters such as area, facilities, etc. should be considered to be significant sufficient for one to make the decision in trading the house.\n",
        "\n",
        "- According to the prediction that we have gone through, the model still has to update a lot in order to prevent conflicts as well as make better and more persuasive predictions (for example the price conflict between clients 1 and 2). Moreover, citizens in different regions have their own specific habits and behavior as well as the population density and the local community standards are unfamiliar, also. As a result, before starting to make any model or prediction, it is extremely important to have the target research objects directly contact and collect data. Additionally, it would be more interesting to collect enough qualified data in both areas to figure out the differences between the two.\n",
        "\n",
        "- Although the living environment will have its own impacts on the price of every house inside, it is not enough. Instead, the quality of the house (age of the house, house equipment, add-in facilities, etc.) is still much more important. The more advantages a house brings to its owner, the more persuasively higher price it has."
      ]
    }
  ]
}